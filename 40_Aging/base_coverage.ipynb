{
 "cells": [
  {
   "cell_type": "code",
   "execution_count": null,
   "metadata": {},
   "outputs": [],
   "source": [
    "import collections\n",
    "import numpy as np\n",
    "import pandas as pd\n",
    "import plotly.express as px\n",
    "\n",
    "import sys\n",
    "sys.path.append('../')\n",
    "import plotting"
   ]
  },
  {
   "cell_type": "markdown",
   "metadata": {},
   "source": [
    "# Function"
   ]
  },
  {
   "cell_type": "markdown",
   "metadata": {},
   "source": [
    "### Calculate base coverage by position"
   ]
  },
  {
   "cell_type": "code",
   "execution_count": null,
   "metadata": {},
   "outputs": [],
   "source": [
    "def collect_base_coverage(df, length=150):\n",
    "    dfs = []\n",
    "    for exp in df.exp.unique():\n",
    "        fw_coverage = collections.Counter()\n",
    "        rv_coverage = collections.Counter()\n",
    "        n_reads = [0, 0]\n",
    "\n",
    "        subdf = df[df['exp'] == exp]\n",
    "        # go through each read and add the coverage to the respective strand\n",
    "        for row in subdf.iterrows():\n",
    "            data = row[1]\n",
    "            start = int(data['break_5_pos']) if not np.isnan(data['break_5_pos']) else 0\n",
    "            end = int(data['break_3_pos']) if not np.isnan(data['break_3_pos']) else length\n",
    "            \n",
    "            if data['read_direction'] == 1:\n",
    "                fw_coverage.update(range(start+1, end+1))\n",
    "                n_reads[0] += 1\n",
    "            else:\n",
    "                # if reverse read, we need to adjust the position to the end of the read\n",
    "                rv_coverage.update(range(length-end+1, length-start+1))\n",
    "                n_reads[1] += 1\n",
    "            \n",
    "        dfs.append(pd.DataFrame({'exp': exp, 'read_direction': 1, 'pos': list(fw_coverage.keys()), 'coverage': np.array(list(fw_coverage.values()))/n_reads[0]}))\n",
    "        dfs.append(pd.DataFrame({'exp': exp, 'read_direction': 2, 'pos': list(rv_coverage.keys()), 'coverage': np.array(list(rv_coverage.values()))/n_reads[1]}))\n",
    "\n",
    "    plot_df = pd.concat(dfs)\n",
    "    plot_df.sort_values(by=['exp', 'pos'], inplace=True)\n",
    "    return plot_df"
   ]
  },
  {
   "cell_type": "markdown",
   "metadata": {},
   "source": [
    "### Plot"
   ]
  },
  {
   "cell_type": "code",
   "execution_count": null,
   "metadata": {},
   "outputs": [],
   "source": [
    "def plot_base_coverage(df, length=150, colors=None):\n",
    "    fig = px.line(\n",
    "        df,\n",
    "        x='pos',\n",
    "        y='coverage',\n",
    "        line_dash='read_direction',\n",
    "        color='exp',\n",
    "        color_discrete_map=colors,\n",
    "        line_dash_map={1: 'solid', 2: 'dash'},\n",
    "        render_mode='svg',\n",
    "    )\n",
    "\n",
    "    fig.update_layout(\n",
    "        height=140,\n",
    "        width=210,\n",
    "        showlegend=False,\n",
    "        margin=dict(l=0, r=10, t=10, b=0),\n",
    "    )\n",
    "    fig.update_yaxes(tickformat=\",.0%\", range=[0, 1.01], title='Fraction of reads')\n",
    "    fig.update_xaxes(range=[0, length], title='Position in design sequence')\n",
    "    fig = plotting.standardize_plot(fig)\n",
    "    return fig"
   ]
  },
  {
   "cell_type": "markdown",
   "metadata": {},
   "source": [
    "# Plot data for Meiser et al."
   ]
  },
  {
   "cell_type": "code",
   "execution_count": null,
   "metadata": {},
   "outputs": [],
   "source": [
    "df = plotting.read_breakage_data({\n",
    "    'unaged': '../data_experimental/Aging_Meiser/unaged',\n",
    "    'aged': '../data_experimental/Aging_Meiser/aged',\n",
    "    'repaired': '../data_experimental/Aging_Meiser/repaired',\n",
    "})\n",
    "df"
   ]
  },
  {
   "cell_type": "code",
   "execution_count": null,
   "metadata": {},
   "outputs": [],
   "source": [
    "plot_df = collect_base_coverage(df, length=150)"
   ]
  },
  {
   "cell_type": "code",
   "execution_count": null,
   "metadata": {},
   "outputs": [],
   "source": [
    "fig = plot_base_coverage(\n",
    "    plot_df, \n",
    "    length=150,\n",
    "    colors={\n",
    "        \"unaged\": \"#969696\",\n",
    "        \"aged\": \"#de2d26\",\n",
    "        \"repaired\": \"#3182bd\",\n",
    "    },\n",
    ")\n",
    "\n",
    "fig.write_image('figures/meiser_base_coverage.svg')\n",
    "fig.show()"
   ]
  },
  {
   "cell_type": "markdown",
   "metadata": {},
   "source": [
    "# Plot data for Song et al."
   ]
  },
  {
   "cell_type": "code",
   "execution_count": null,
   "metadata": {},
   "outputs": [],
   "source": [
    "df = plotting.read_breakage_data({\n",
    "    'unaged': '../data_experimental/Aging_Song/0d',\n",
    "    '28d': '../data_experimental/Aging_Song/28d',\n",
    "    '70d': '../data_experimental/Aging_Song/70d',\n",
    "})\n",
    "df"
   ]
  },
  {
   "cell_type": "code",
   "execution_count": null,
   "metadata": {},
   "outputs": [],
   "source": [
    "plot_df = collect_base_coverage(df, length=200)"
   ]
  },
  {
   "cell_type": "code",
   "execution_count": null,
   "metadata": {},
   "outputs": [],
   "source": [
    "fig = plot_base_coverage(\n",
    "    plot_df, \n",
    "    length=200,\n",
    "    colors={\n",
    "        \"unaged\": \"#969696\",\n",
    "        \"28d\": \"#fcae91\",\n",
    "        \"70d\": \"#de2d26\",\n",
    "    },\n",
    ")\n",
    "\n",
    "fig.write_image('figures/song_base_coverage.svg')\n",
    "fig.show()"
   ]
  },
  {
   "cell_type": "markdown",
   "metadata": {},
   "source": [
    "# Plot data for simulated"
   ]
  },
  {
   "cell_type": "code",
   "execution_count": null,
   "metadata": {},
   "outputs": [],
   "source": [
    "df = plotting.read_breakage_data({\n",
    "    'simulated': '../data_simulated/test_decay',\n",
    "    'repaired': '../data_experimental/Aging_Meiser/repaired',\n",
    "})\n",
    "df"
   ]
  },
  {
   "cell_type": "code",
   "execution_count": null,
   "metadata": {},
   "outputs": [],
   "source": [
    "plot_df = collect_base_coverage(df, length=150)"
   ]
  },
  {
   "cell_type": "code",
   "execution_count": null,
   "metadata": {},
   "outputs": [],
   "source": [
    "fig = plot_base_coverage(\n",
    "    plot_df, \n",
    "    length=150,\n",
    "    colors={\n",
    "        \"simulated\": \"#3182bd\",\n",
    "        \"repaired\": \"#969696\",\n",
    "    },\n",
    ")\n",
    "\n",
    "fig.write_image('SI_figures/simulated_base_coverage.svg')\n",
    "fig.show()"
   ]
  }
 ],
 "metadata": {
  "kernelspec": {
   "display_name": "standard-3.12",
   "language": "python",
   "name": "python3"
  },
  "language_info": {
   "codemirror_mode": {
    "name": "ipython",
    "version": 3
   },
   "file_extension": ".py",
   "mimetype": "text/x-python",
   "name": "python",
   "nbconvert_exporter": "python",
   "pygments_lexer": "ipython3",
   "version": "3.12.3"
  }
 },
 "nbformat": 4,
 "nbformat_minor": 2
}
