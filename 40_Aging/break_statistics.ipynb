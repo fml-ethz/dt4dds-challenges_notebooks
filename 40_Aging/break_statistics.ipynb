{
 "cells": [
  {
   "cell_type": "code",
   "execution_count": null,
   "metadata": {},
   "outputs": [],
   "source": [
    "import numpy as np\n",
    "import pandas as pd\n",
    "import plotly.express as px\n",
    "\n",
    "import sys\n",
    "sys.path.append('../')\n",
    "import plotting"
   ]
  },
  {
   "cell_type": "code",
   "execution_count": null,
   "metadata": {},
   "outputs": [],
   "source": [
    "def analyze(df, name, colors):\n",
    "    # identify breaks\n",
    "    df = df.copy()\n",
    "    df['break_3'] = ~df['break_3_pos'].isna()\n",
    "    df['break_5'] = ~df['break_5_pos'].isna()\n",
    "    df['double_break'] = df['break_3'] & df['break_5']\n",
    "\n",
    "    # aggregate the data\n",
    "    plot_df = pd.DataFrame([df.groupby('exp')[col].mean() for col in ['break_3', 'break_5', 'double_break']])\n",
    "    plot_df = plot_df.rename({\"break_3\": \"with 3'-break\", \"break_5\": \"with 5'-break\", \"double_break\": \"with 3'<br>and 5'-break\"}, axis='index')\n",
    "    display(plot_df)\n",
    "\n",
    "    fig = px.bar(\n",
    "        plot_df,\n",
    "        x=plot_df.index,\n",
    "        y=plot_df.columns,\n",
    "        barmode='group',\n",
    "        text_auto=True,\n",
    "        color_discrete_map=colors,\n",
    "    )\n",
    "    fig.update_traces(textfont_size=28/3, textangle=0, textposition=\"outside\", cliponaxis=False)\n",
    "    fig.update_yaxes(\n",
    "        range=[0, 1.0],\n",
    "        tickformat=',.0%',\n",
    "        dtick=0.5,\n",
    "        minor_dtick=0.25,\n",
    "    )\n",
    "    fig.update_xaxes(tickangle=90)\n",
    "\n",
    "    fig.update_layout(\n",
    "        width=210,\n",
    "        height=195,\n",
    "        xaxis_title='',\n",
    "        yaxis_title='Fraction of reads',\n",
    "        margin=dict(l=0, r=0, t=0, b=0),\n",
    "        showlegend=False,\n",
    "    )\n",
    "\n",
    "    fig = plotting.standardize_plot(fig)\n",
    "    fig.show()\n",
    "    fig.write_image(f'figures/aging_breaks_{name}.svg')"
   ]
  },
  {
   "cell_type": "markdown",
   "metadata": {},
   "source": [
    "# Meiser et al."
   ]
  },
  {
   "cell_type": "code",
   "execution_count": null,
   "metadata": {},
   "outputs": [],
   "source": [
    "df = plotting.read_breakage_data({\n",
    "    'aged': '../data_experimental/Aging_Meiser/aged',\n",
    "    'repaired': '../data_experimental/Aging_Meiser/repaired',\n",
    "})\n",
    "\n",
    "analyze(df, 'meiser', {'aged': '#de2d26', 'repaired': '#3182bd'})"
   ]
  },
  {
   "cell_type": "markdown",
   "metadata": {},
   "source": [
    "# Song et al."
   ]
  },
  {
   "cell_type": "code",
   "execution_count": null,
   "metadata": {},
   "outputs": [],
   "source": [
    "df = plotting.read_breakage_data({\n",
    "    '28d': '../data_experimental/Aging_Song/28d',\n",
    "    '70d': '../data_experimental/Aging_Song/70d',\n",
    "})\n",
    "\n",
    "analyze(df, 'song', {'28d': '#fcae91', '70d': '#de2d26'})"
   ]
  },
  {
   "cell_type": "markdown",
   "metadata": {},
   "source": [
    "# Simulated data"
   ]
  },
  {
   "cell_type": "code",
   "execution_count": null,
   "metadata": {},
   "outputs": [],
   "source": [
    "df = plotting.read_breakage_data({\n",
    "    'simulated': '../data_simulated/test_decay',\n",
    "    'repaired': '../data_experimental/Aging_Meiser/repaired',\n",
    "})\n",
    "\n",
    "analyze(df, 'simulated', {'simulated': '#3182bd', 'repaired': '#969696'})"
   ]
  }
 ],
 "metadata": {
  "kernelspec": {
   "display_name": "standard-3.12",
   "language": "python",
   "name": "python3"
  },
  "language_info": {
   "codemirror_mode": {
    "name": "ipython",
    "version": 3
   },
   "file_extension": ".py",
   "mimetype": "text/x-python",
   "name": "python",
   "nbconvert_exporter": "python",
   "pygments_lexer": "ipython3",
   "version": "3.12.3"
  }
 },
 "nbformat": 4,
 "nbformat_minor": 2
}
