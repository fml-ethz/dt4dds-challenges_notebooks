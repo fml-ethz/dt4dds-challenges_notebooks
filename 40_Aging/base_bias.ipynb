{
 "cells": [
  {
   "cell_type": "code",
   "execution_count": null,
   "metadata": {},
   "outputs": [],
   "source": [
    "import numpy as np\n",
    "import pandas as pd\n",
    "import plotly.express as px\n",
    "\n",
    "import sys\n",
    "sys.path.append('../')\n",
    "import plotting\n",
    "\n",
    "base_colors = {\n",
    "    'A': '#31a354',\n",
    "    'C': '#3182bd',\n",
    "    'G': '#fd8d3c',\n",
    "    'T': '#de2d26',\n",
    "}\n",
    "reaction_rate = {\n",
    "    'A': 0.8e-9,\n",
    "    'C': 1e-10,\n",
    "    'G': 1e-9,\n",
    "    'T': 1.5e-10,\n",
    "}"
   ]
  },
  {
   "cell_type": "markdown",
   "metadata": {},
   "source": [
    "# All datasets"
   ]
  },
  {
   "cell_type": "code",
   "execution_count": null,
   "metadata": {},
   "outputs": [],
   "source": [
    "df = plotting.read_breakage_data({\n",
    "    'Meiser_unaged': '../data_experimental/Aging_Meiser/unaged',\n",
    "    'Meiser_aged': '../data_experimental/Aging_Meiser/aged',\n",
    "    'Meiser_repaired': '../data_experimental/Aging_Meiser/repaired',\n",
    "    'Song_0d': '../data_experimental/Aging_Song/0d',\n",
    "    'Song_28d': '../data_experimental/Aging_Song/28d',\n",
    "    'Song_56d': '../data_experimental/Aging_Song/56d',\n",
    "    'Song_70d': '../data_experimental/Aging_Song/70d',\n",
    "})\n",
    "df"
   ]
  },
  {
   "cell_type": "code",
   "execution_count": null,
   "metadata": {},
   "outputs": [],
   "source": [
    "# aggregate by experiment and base, normalize\n",
    "agg_data = df.groupby(['exp', 'break_5_5base']).size().reset_index(name='count')\n",
    "agg_data['count'] = agg_data['count']/agg_data.groupby('exp')['count'].transform('sum')\n",
    "\n",
    "# transform names\n",
    "agg_data[['dataset', 'name']] = agg_data['exp'].str.split('_', expand=True)\n",
    "\n",
    "# add reference entries\n",
    "entries = []\n",
    "for base, half_life in reaction_rate.items():\n",
    "    entries.append({\n",
    "        'exp': 'Reference',\n",
    "        'dataset': 'Reference',\n",
    "        'name': 'Reference',\n",
    "        'break_5_5base': base,\n",
    "        'count': reaction_rate[base]/sum(reaction_rate.values()),\n",
    "    })\n",
    "agg_data = pd.concat([agg_data, pd.DataFrame(entries)])\n",
    "\n",
    "agg_data"
   ]
  },
  {
   "cell_type": "code",
   "execution_count": null,
   "metadata": {},
   "outputs": [],
   "source": [
    "fig = px.bar(\n",
    "    agg_data, \n",
    "    x=\"name\", \n",
    "    y=\"count\",\n",
    "    color='break_5_5base',\n",
    "    color_discrete_map=base_colors,\n",
    "    category_orders={\n",
    "        'break_5_5base': reversed(['A', 'C', 'G', 'T']),\n",
    "        'name': ['unaged', 'aged', 'repaired', '0d', '28d', '56d', '70d', 'Reference'],\n",
    "    },\n",
    ")\n",
    "\n",
    "\n",
    "fig.update_yaxes(\n",
    "    range=[0, 1.0],\n",
    "    title_text='Fraction of breaks',\n",
    "    tickformat=',.0%',\n",
    ")\n",
    "fig.update_xaxes(\n",
    "    title_text='', \n",
    ")\n",
    "fig.update_layout(\n",
    "    width=230,\n",
    "    height=180,\n",
    "    legend_title_text='',\n",
    "    margin=dict(l=0,r=10,b=0,t=10),\n",
    "    showlegend=True,\n",
    ")\n",
    "fig = plotting.standardize_plot(fig)\n",
    "fig.show()\n",
    "fig.write_image(\"./figures/breakbases_all.svg\")"
   ]
  },
  {
   "cell_type": "markdown",
   "metadata": {},
   "source": [
    "# With simulated data"
   ]
  },
  {
   "cell_type": "code",
   "execution_count": null,
   "metadata": {},
   "outputs": [],
   "source": [
    "df = plotting.read_breakage_data({\n",
    "    'Meiser_unaged': '../data_experimental/Aging_Meiser/unaged',\n",
    "    'Meiser_aged': '../data_experimental/Aging_Meiser/aged',\n",
    "    'Meiser_repaired': '../data_experimental/Aging_Meiser/repaired',\n",
    "    'Song_0d': '../data_experimental/Aging_Song/0d',\n",
    "    'Song_28d': '../data_experimental/Aging_Song/28d',\n",
    "    'Song_56d': '../data_experimental/Aging_Song/56d',\n",
    "    'Song_70d': '../data_experimental/Aging_Song/70d',\n",
    "    'simulated_simulated': '../data_simulated/test_decay',\n",
    "})\n",
    "df"
   ]
  },
  {
   "cell_type": "code",
   "execution_count": null,
   "metadata": {},
   "outputs": [],
   "source": [
    "# aggregate by experiment and base, normalize\n",
    "agg_data = df.groupby(['exp', 'break_5_5base']).size().reset_index(name='count')\n",
    "agg_data['count'] = agg_data['count']/agg_data.groupby('exp')['count'].transform('sum')\n",
    "\n",
    "# transform names\n",
    "agg_data[['dataset', 'name']] = agg_data['exp'].str.split('_', expand=True)\n",
    "\n",
    "# add reference entries\n",
    "entries = []\n",
    "for base, half_life in reaction_rate.items():\n",
    "    entries.append({\n",
    "        'exp': 'Reference',\n",
    "        'dataset': 'Reference',\n",
    "        'name': 'Reference',\n",
    "        'break_5_5base': base,\n",
    "        'count': reaction_rate[base]/sum(reaction_rate.values()),\n",
    "    })\n",
    "agg_data = pd.concat([agg_data, pd.DataFrame(entries)])\n",
    "\n",
    "agg_data"
   ]
  },
  {
   "cell_type": "code",
   "execution_count": null,
   "metadata": {},
   "outputs": [],
   "source": [
    "fig = px.bar(\n",
    "    agg_data, \n",
    "    x=\"name\", \n",
    "    y=\"count\",\n",
    "    color='break_5_5base',\n",
    "    color_discrete_map=base_colors,\n",
    "    category_orders={\n",
    "        'break_5_5base': reversed(['A', 'C', 'G', 'T']),\n",
    "        'name': ['unaged', 'aged', 'repaired', '0d', '28d', '56d', '70d', 'Reference', 'simulated'],\n",
    "    },\n",
    ")\n",
    "\n",
    "\n",
    "fig.update_yaxes(\n",
    "    range=[0, 1.0],\n",
    "    title_text='Fraction of breaks',\n",
    "    tickformat=',.0%',\n",
    ")\n",
    "fig.update_xaxes(\n",
    "    title_text='', \n",
    ")\n",
    "fig.update_layout(\n",
    "    width=230,\n",
    "    height=150,\n",
    "    legend_title_text='',\n",
    "    margin=dict(l=0,r=10,b=0,t=10),\n",
    "    showlegend=True,\n",
    ")\n",
    "fig = plotting.standardize_plot(fig)\n",
    "fig.show()\n",
    "fig.write_image(\"./SI_figures/breakbases_all.svg\")"
   ]
  }
 ],
 "metadata": {
  "kernelspec": {
   "display_name": "standard-3.12",
   "language": "python",
   "name": "python3"
  },
  "language_info": {
   "codemirror_mode": {
    "name": "ipython",
    "version": 3
   },
   "file_extension": ".py",
   "mimetype": "text/x-python",
   "name": "python",
   "nbconvert_exporter": "python",
   "pygments_lexer": "ipython3",
   "version": "3.12.3"
  }
 },
 "nbformat": 4,
 "nbformat_minor": 2
}
