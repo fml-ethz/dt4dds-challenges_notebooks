{
 "cells": [
  {
   "cell_type": "code",
   "execution_count": null,
   "metadata": {},
   "outputs": [],
   "source": [
    "import numpy as np\n",
    "import pandas as pd\n",
    "import scipy.stats\n",
    "import plotly.express as px\n",
    "import plotly.graph_objects as pg\n",
    "from scipy.optimize import curve_fit\n",
    "\n",
    "import dt4dds.analysis.dataaggregation as analysis\n",
    "\n",
    "import sys\n",
    "sys.path.append('..')\n",
    "import plotting"
   ]
  },
  {
   "cell_type": "markdown",
   "metadata": {},
   "source": [
    "# Coverage bias"
   ]
  },
  {
   "cell_type": "code",
   "execution_count": null,
   "metadata": {},
   "outputs": [],
   "source": [
    "data = analysis.DistributionAnalysis({\n",
    "    'Song_0d': \"../data_experimental/Aging_Song/0d/analysis/coverage.tsv\",\n",
    "    'Song_28d': \"../data_experimental/Aging_Song/28d/analysis/coverage.tsv\",\n",
    "    'Song_56d': \"../data_experimental/Aging_Song/56d/analysis/coverage.tsv\",\n",
    "    'Song_70d': \"../data_experimental/Aging_Song/70d/analysis/coverage.tsv\",\n",
    "    'Meiser_unaged': \"../data_experimental/Aging_Meiser/unaged/analysis/coverage.tsv\",\n",
    "    'Meiser_aged': \"../data_experimental/Aging_Meiser/aged/analysis/coverage.tsv\",\n",
    "    'Meiser_repaired': \"../data_experimental/Aging_Meiser/repaired/analysis/coverage.tsv\",\n",
    "})"
   ]
  },
  {
   "cell_type": "code",
   "execution_count": null,
   "metadata": {},
   "outputs": [],
   "source": [
    "plot_data = data.data.copy()\n",
    "\n",
    "fig = px.histogram(\n",
    "    plot_data, \n",
    "    x=\"x\", \n",
    "    facet_col=\"exp\",\n",
    "    facet_col_wrap=4, \n",
    "    facet_col_spacing=0.05,\n",
    "    facet_row_spacing=0.1,\n",
    "    barmode='overlay',\n",
    "    color_discrete_sequence=['#6baed6'],\n",
    "    range_x=[0, 2.5], \n",
    "    range_y=[0, 1.5], \n",
    "    opacity=0.65,\n",
    "    nbins=1000,\n",
    "    histnorm='probability density'\n",
    ")\n",
    "fig.update_traces(xbins={'start': 0.0, 'end': 3, 'size': 0.1}, selector=dict(type='histogram'))\n",
    "fig.for_each_annotation(lambda a: a.update(text=''))\n",
    "\n",
    "\n",
    "fig.for_each_yaxis(lambda yaxis: yaxis.update(dtick=1))\n",
    "fig.update_traces(marker=dict(line_width=0), selector=dict(type='histogram')) \n",
    "\n",
    "fig.update_layout(\n",
    "    template=\"simple_white\", \n",
    "    height=300, \n",
    "    width=680, \n",
    "    showlegend=False, \n",
    "    margin=dict(l=0, r=10, t=10, b=0),\n",
    "    font_family=\"Inter\",\n",
    "    legend_font_size=28/3,\n",
    ")\n",
    "fig.update_xaxes(\n",
    "    title_text='',\n",
    "    title_font_family=\"Inter\", \n",
    "    title_font_size=28/3, \n",
    "    dtick=1,\n",
    "    minor_ticks=\"outside\", \n",
    "    minor_dtick=0.5,\n",
    "    tickfont_size=28/3, \n",
    ")\n",
    "fig.update_xaxes(\n",
    "    title_text='Normalized coverage', row=1\n",
    ")\n",
    "fig.update_yaxes(\n",
    "    title_text='Probability density',\n",
    "    title_font_family=\"Inter\", \n",
    "    title_font_size=28/3, \n",
    "    dtick=1,\n",
    "    minor_ticks=\"outside\", \n",
    "    minor_dtick=0.5,\n",
    "    tickfont_size=28/3, \n",
    "    col=1\n",
    ")\n",
    "\n",
    "fig.show()\n",
    "fig.write_image(\"SI_figures/coverage_histograms.svg\")"
   ]
  }
 ],
 "metadata": {
  "kernelspec": {
   "display_name": "dt4dds",
   "language": "python",
   "name": "python3"
  },
  "language_info": {
   "codemirror_mode": {
    "name": "ipython",
    "version": 3
   },
   "file_extension": ".py",
   "mimetype": "text/x-python",
   "name": "python",
   "nbconvert_exporter": "python",
   "pygments_lexer": "ipython3",
   "version": "3.12.3"
  }
 },
 "nbformat": 4,
 "nbformat_minor": 2
}
