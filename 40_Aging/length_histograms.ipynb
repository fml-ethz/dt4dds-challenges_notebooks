{
 "cells": [
  {
   "cell_type": "code",
   "execution_count": null,
   "metadata": {},
   "outputs": [],
   "source": [
    "import numpy as np\n",
    "import plotly.express as px\n",
    "import plotly.graph_objects as pg\n",
    "import plotly.graph_objects as go\n",
    "\n",
    "import sys\n",
    "sys.path.append('../')\n",
    "import plotting"
   ]
  },
  {
   "cell_type": "markdown",
   "metadata": {},
   "source": [
    "### Plot"
   ]
  },
  {
   "cell_type": "code",
   "execution_count": null,
   "metadata": {},
   "outputs": [],
   "source": [
    "from plotly.subplots import make_subplots\n",
    "\n",
    "def plot_length_histogram(df, length=150, colors=None):\n",
    "\n",
    "    fig = make_subplots(\n",
    "        rows=2, \n",
    "        shared_xaxes=True, \n",
    "        vertical_spacing=0.025,\n",
    "        row_heights=[0.2, 0.8],\n",
    "    )\n",
    "\n",
    "    lengths = np.arange(0, length+2)\n",
    "\n",
    "\n",
    "    for exp in df.exp.unique():\n",
    "        this_data = df.loc[df['exp'] == exp].copy()\n",
    "        ratios = np.histogram(this_data.len_ref_aligned, bins=lengths)[0]\n",
    "        ratios = ratios / sum(ratios)\n",
    "\n",
    "        for row in range(2):\n",
    "            fig.add_trace(\n",
    "                pg.Scatter(\n",
    "                    x=lengths[:-1],\n",
    "                    y=ratios,\n",
    "                    marker_color=colors[exp],\n",
    "                    opacity=0.6,\n",
    "                    line_shape='hvh',\n",
    "                    fill='tozeroy',\n",
    "                ),\n",
    "                col=1,\n",
    "                row=1+row,\n",
    "            )\n",
    "    \n",
    "    \n",
    "    \n",
    "    for exp in df.exp.unique():\n",
    "        this_data = df.loc[df['exp'] == exp].copy()\n",
    "        ratios = np.histogram(this_data.len_ref_aligned, bins=lengths)[0]\n",
    "        ratios = ratios / sum(ratios)\n",
    "\n",
    "        for row in range(2):\n",
    "            fig.add_trace(\n",
    "                pg.Scatter(\n",
    "                    x=lengths[:-1], \n",
    "                    y=ratios, \n",
    "                    marker_color=colors[exp],\n",
    "                    mode='lines',\n",
    "                    line_shape='hvh',\n",
    "                ),\n",
    "                col=1,\n",
    "                row=1+row,\n",
    "            )\n",
    "            fig.add_annotation(\n",
    "                x=length-3,\n",
    "                y=ratios[-1],\n",
    "                xanchor='right',\n",
    "                text=f\"{100*ratios[-1]:.1f}%\",\n",
    "                font_color=colors[exp],\n",
    "                showarrow=False,\n",
    "                col=1,\n",
    "                row=1+row,\n",
    "            )\n",
    "\n",
    "    fig.update_traces(marker=dict(line_width=0, line_color='black'))\n",
    "    fig.add_vline(x=10, line_width=1, line_dash=\"dash\", line_color=\"black\")\n",
    "    fig.update_layout(\n",
    "        template=\"simple_white\", \n",
    "        barmode='overlay',\n",
    "        height=150, \n",
    "        width=210, \n",
    "        showlegend=False, \n",
    "        margin=dict(l=0, r=10, t=10, b=0),\n",
    "        font_family=\"Inter\",\n",
    "        legend_font_size=28/3,\n",
    "        bargap=0,\n",
    "        bargroupgap = 0,\n",
    "    )\n",
    "    fig.update_xaxes(\n",
    "        showticklabels=False, \n",
    "        visible=False,\n",
    "    )\n",
    "    fig.update_xaxes(range=[0, length+1])\n",
    "    fig.update_xaxes(title=\"Length of aligned read\", showticklabels=True, visible=True, row=2, col=1)\n",
    "    fig.update_xaxes(showticklabels=True, visible=True, row=2, col=2)\n",
    "\n",
    "    fig.update_yaxes(tickformat=\",.0%\")\n",
    "    fig.update_yaxes(title=\"Fraction of reads\", range=[0, 0.0325], row=2, dtick=0.01, minor_dtick=0.005)\n",
    "    fig.update_yaxes(range=[0.3, 1.0], row=1, dtick=0.5, minor_dtick=0.25)\n",
    "\n",
    "    fig = plotting.standardize_plot(fig)\n",
    "    return fig"
   ]
  },
  {
   "cell_type": "markdown",
   "metadata": {},
   "source": [
    "# Plot data for Meiser et al."
   ]
  },
  {
   "cell_type": "code",
   "execution_count": null,
   "metadata": {},
   "outputs": [],
   "source": [
    "df = plotting.read_breakage_data({\n",
    "    'unaged': '../data_experimental/Aging_Meiser/unaged',\n",
    "    'aged': '../data_experimental/Aging_Meiser/aged',\n",
    "    'repaired': '../data_experimental/Aging_Meiser/repaired',\n",
    "})\n",
    "df"
   ]
  },
  {
   "cell_type": "code",
   "execution_count": null,
   "metadata": {},
   "outputs": [],
   "source": [
    "fig = plot_length_histogram(\n",
    "    df,\n",
    "    length=150,\n",
    "    colors={\n",
    "        \"unaged\": \"#969696\",\n",
    "        \"aged\": \"#de2d26\",\n",
    "        \"repaired\": \"#3182bd\",\n",
    "    },\n",
    ")\n",
    "\n",
    "fig.write_image(\"figures/meiser_length_histogram.svg\")\n",
    "fig.show()"
   ]
  },
  {
   "cell_type": "markdown",
   "metadata": {},
   "source": [
    "# Plot data for Song et al."
   ]
  },
  {
   "cell_type": "code",
   "execution_count": null,
   "metadata": {},
   "outputs": [],
   "source": [
    "df = plotting.read_breakage_data({\n",
    "    '0d': '../data_experimental/Aging_Song/0d',\n",
    "    '28d': '../data_experimental/Aging_Song/28d',\n",
    "    '70d': '../data_experimental/Aging_Song/70d',\n",
    "})\n",
    "df"
   ]
  },
  {
   "cell_type": "code",
   "execution_count": null,
   "metadata": {},
   "outputs": [],
   "source": [
    "fig = plot_length_histogram(\n",
    "    df,\n",
    "    length=200,\n",
    "    colors={\n",
    "        \"0d\": \"#969696\",\n",
    "        \"28d\": \"#fcae91\",\n",
    "        \"70d\": \"#de2d26\",\n",
    "    },\n",
    ")\n",
    "\n",
    "fig.write_image(\"figures/song_length_histogram.svg\")\n",
    "fig.show()"
   ]
  },
  {
   "cell_type": "markdown",
   "metadata": {},
   "source": [
    "# Plot simulated data"
   ]
  },
  {
   "cell_type": "code",
   "execution_count": null,
   "metadata": {},
   "outputs": [],
   "source": [
    "df = plotting.read_breakage_data({\n",
    "    'simulated': '../data_simulated/test_decay',\n",
    "    'repaired': '../data_experimental/Aging_Meiser/repaired',\n",
    "})\n",
    "df"
   ]
  },
  {
   "cell_type": "code",
   "execution_count": null,
   "metadata": {},
   "outputs": [],
   "source": [
    "fig = plot_length_histogram(\n",
    "    df,\n",
    "    length=150,\n",
    "    colors={\n",
    "        \"simulated\": \"#3182bd\",\n",
    "        \"repaired\": \"#969696\",\n",
    "    },\n",
    ")\n",
    "\n",
    "fig.write_image(\"SI_figures/simulated_length_histogram.svg\")\n",
    "fig.show()"
   ]
  }
 ],
 "metadata": {
  "kernelspec": {
   "display_name": "standard-3.12",
   "language": "python",
   "name": "python3"
  },
  "language_info": {
   "codemirror_mode": {
    "name": "ipython",
    "version": 3
   },
   "file_extension": ".py",
   "mimetype": "text/x-python",
   "name": "python",
   "nbconvert_exporter": "python",
   "pygments_lexer": "ipython3",
   "version": "3.12.3"
  }
 },
 "nbformat": 4,
 "nbformat_minor": 2
}
