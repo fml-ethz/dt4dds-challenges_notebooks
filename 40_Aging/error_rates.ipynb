{
 "cells": [
  {
   "cell_type": "code",
   "execution_count": null,
   "metadata": {},
   "outputs": [],
   "source": [
    "import numpy as np\n",
    "import pandas as pd\n",
    "import scipy.stats\n",
    "import plotly.express as px\n",
    "import plotly.graph_objects as pg\n",
    "from scipy.optimize import curve_fit\n",
    "\n",
    "import dt4dds.analysis.dataaggregation as analysis\n",
    "\n",
    "import sys\n",
    "sys.path.append('..')\n",
    "import plotting"
   ]
  },
  {
   "cell_type": "code",
   "execution_count": null,
   "metadata": {},
   "outputs": [],
   "source": [
    "error_colors = {\n",
    "    'substitutions': '#e6550d',\n",
    "    'insertions': '#3182bd',\n",
    "    'deletions': '#756bb1'\n",
    "}"
   ]
  },
  {
   "cell_type": "code",
   "execution_count": null,
   "metadata": {},
   "outputs": [],
   "source": [
    "data = analysis.GroupAnalysis([\n",
    "    ('Meiser_unaged', analysis.ErrorAnalysis(\"../data_experimental/Aging_Meiser/unaged/analysis\", local=True, paired=False)),\n",
    "    ('Meiser_aged', analysis.ErrorAnalysis(\"../data_experimental/Aging_Meiser/aged/analysis\", local=True, paired=False)),\n",
    "    ('Meiser_repaired', analysis.ErrorAnalysis(\"../data_experimental/Aging_Meiser/repaired/analysis\", local=True, paired=False)),\n",
    "    ('Song_0d', analysis.ErrorAnalysis(\"../data_experimental/Aging_Song/0d/analysis\", local=True, paired=False)),\n",
    "    ('Song_28d', analysis.ErrorAnalysis(\"../data_experimental/Aging_Song/28d/analysis\", local=True, paired=False)),\n",
    "    ('Song_56d', analysis.ErrorAnalysis(\"../data_experimental/Aging_Song/56d/analysis\", local=True, paired=False)),\n",
    "    ('Song_70d', analysis.ErrorAnalysis(\"../data_experimental/Aging_Song/70d/analysis\", local=True, paired=False)),\n",
    "])\n",
    "order = ['Meiser_unaged', 'Meiser_aged', 'Meiser_repaired', 'Song_0d', 'Song_28d', 'Song_56d', 'Song_70d']"
   ]
  },
  {
   "cell_type": "markdown",
   "metadata": {},
   "source": [
    "# Collect median error rates from positional error data"
   ]
  },
  {
   "cell_type": "code",
   "execution_count": null,
   "metadata": {},
   "outputs": [],
   "source": [
    "mean_error_rates = {}\n",
    "\n",
    "for errortype in ['substitutions', 'insertions', 'deletions']:\n",
    "    \n",
    "    idata = data.data[f'{errortype}_by_refposition'].copy()\n",
    "\n",
    "    for group in idata.group.unique():\n",
    "        group_data = idata[idata.group == group]\n",
    "        mean_error_rates[(errortype, group)] = group_data.rate.median()\n",
    "\n",
    "mean_error_rates = pd.Series(mean_error_rates).to_frame('rate').reset_index(names=['errortype', 'group'])\n",
    "mean_error_rates[['dataset', 'exp']] = mean_error_rates['group'].str.split('_', expand=True)\n",
    "\n",
    "mean_error_rates"
   ]
  },
  {
   "cell_type": "code",
   "execution_count": null,
   "metadata": {},
   "outputs": [],
   "source": [
    "fig = px.bar(\n",
    "    mean_error_rates, \n",
    "    x='exp', \n",
    "    y='rate', \n",
    "    color='errortype', \n",
    "    color_discrete_map=error_colors,\n",
    "    category_orders={'dataset': order}\n",
    ")\n",
    "\n",
    "fig.update_xaxes(tickangle=90)\n",
    "fig.update_yaxes(dtick=0.005, minor_dtick=0.0025)\n",
    "fig.update_layout(\n",
    "    yaxis_title='Error rate per nt',\n",
    "    xaxis_title='',\n",
    "    margin=dict(l=0, r=10, t=10, b=0),\n",
    "    width=210,\n",
    "    height=150,\n",
    "    showlegend=False,\n",
    ")\n",
    "\n",
    "\n",
    "fig = plotting.standardize_plot(fig)\n",
    "fig.write_image('./figures/aging_error_rates.svg')\n",
    "fig.show()"
   ]
  },
  {
   "cell_type": "markdown",
   "metadata": {},
   "source": [
    "# Again with simulated data"
   ]
  },
  {
   "cell_type": "code",
   "execution_count": null,
   "metadata": {},
   "outputs": [],
   "source": [
    "data = analysis.GroupAnalysis([\n",
    "    ('Meiser_unaged', analysis.ErrorAnalysis(\"../data_experimental/Aging_Meiser/unaged/analysis\", local=True, paired=False)),\n",
    "    ('Meiser_aged', analysis.ErrorAnalysis(\"../data_experimental/Aging_Meiser/aged/analysis\", local=True, paired=False)),\n",
    "    ('Meiser_repaired', analysis.ErrorAnalysis(\"../data_experimental/Aging_Meiser/repaired/analysis\", local=True, paired=False)),\n",
    "    ('Song_0d', analysis.ErrorAnalysis(\"../data_experimental/Aging_Song/0d/analysis\", local=True, paired=False)),\n",
    "    ('Song_28d', analysis.ErrorAnalysis(\"../data_experimental/Aging_Song/28d/analysis\", local=True, paired=False)),\n",
    "    ('Song_56d', analysis.ErrorAnalysis(\"../data_experimental/Aging_Song/56d/analysis\", local=True, paired=False)),\n",
    "    ('Song_70d', analysis.ErrorAnalysis(\"../data_experimental/Aging_Song/70d/analysis\", local=True, paired=False)),\n",
    "    ('simulated_simulated', analysis.ErrorAnalysis(\"../data_simulated/test_decay/analysis\", local=True, paired=False)),\n",
    "])\n",
    "order = ['Meiser_unaged', 'Meiser_aged', 'Meiser_repaired', 'Song_0d', 'Song_28d', 'Song_56d', 'Song_70d', 'simulated_simulated']"
   ]
  },
  {
   "cell_type": "code",
   "execution_count": null,
   "metadata": {},
   "outputs": [],
   "source": [
    "mean_error_rates = {}\n",
    "\n",
    "for errortype in ['substitutions', 'insertions', 'deletions']:\n",
    "    \n",
    "    idata = data.data[f'{errortype}_by_refposition'].copy()\n",
    "\n",
    "    for group in idata.group.unique():\n",
    "        group_data = idata[idata.group == group]\n",
    "        mean_error_rates[(errortype, group)] = group_data.rate.median()\n",
    "\n",
    "mean_error_rates = pd.Series(mean_error_rates).to_frame('rate').reset_index(names=['errortype', 'group'])\n",
    "mean_error_rates[['dataset', 'exp']] = mean_error_rates['group'].str.split('_', expand=True)\n",
    "\n",
    "mean_error_rates"
   ]
  },
  {
   "cell_type": "code",
   "execution_count": null,
   "metadata": {},
   "outputs": [],
   "source": [
    "fig = px.bar(\n",
    "    mean_error_rates, \n",
    "    x='exp', \n",
    "    y='rate', \n",
    "    color='errortype', \n",
    "    color_discrete_map=error_colors,\n",
    "    category_orders={'dataset': order}\n",
    ")\n",
    "\n",
    "fig.update_xaxes(tickangle=90)\n",
    "fig.update_yaxes(dtick=0.005, minor_dtick=0.0025)\n",
    "fig.update_layout(\n",
    "    yaxis_title='Error rate per nt',\n",
    "    xaxis_title='',\n",
    "    margin=dict(l=0, r=10, t=10, b=0),\n",
    "    width=210,\n",
    "    height=150,\n",
    "    showlegend=False,\n",
    ")\n",
    "\n",
    "\n",
    "fig = plotting.standardize_plot(fig)\n",
    "fig.write_image('./SI_figures/aging_error_rates.svg')\n",
    "fig.show()"
   ]
  },
  {
   "cell_type": "code",
   "execution_count": null,
   "metadata": {},
   "outputs": [],
   "source": [
    "mean_error_rates = {}\n",
    "\n",
    "for errortype in ['substitutions', 'insertions', 'deletions']:\n",
    "    \n",
    "    idata = data.data[f'{errortype}_by_refposition_by_type'].copy()\n",
    "\n",
    "    for group in idata.group.unique():\n",
    "        group_data = idata[idata.group == group]\n",
    "        rates = group_data.groupby(\"type\").rate.median()\n",
    "        mean_error_rates[(errortype, group)] = rates/np.sum(rates)\n",
    "\n",
    "# convert to dataframe\n",
    "idf = pd.DataFrame(mean_error_rates)\n",
    "\n",
    "# go from wide to long format\n",
    "idf = idf.stack(future_stack=True).reset_index()\n",
    "idf[['dataset', 'exp']] = idf['level_1'].str.split('_', expand=True)\n",
    "\n",
    "# remove all rows where the substitution includes N\n",
    "idf = idf[~idf.type.str.contains('N')]\n",
    "\n",
    "idf"
   ]
  },
  {
   "cell_type": "code",
   "execution_count": null,
   "metadata": {},
   "outputs": [],
   "source": [
    "color_map = {\n",
    "    'A': '#31a354',\n",
    "    'A2C': '#74c476',\n",
    "    'A2G': '#31a354',\n",
    "    'A2T': '#006d2c',\n",
    "    'C': '#3182bd',\n",
    "    'C2A': '#6baed6',\n",
    "    'C2G': '#3182bd',\n",
    "    'C2T': '#08519c',\n",
    "    'G': '#fd8d3c',\n",
    "    'G2A': '#fdbe85',\n",
    "    'G2C': '#fd8d3c',\n",
    "    'G2T': '#e6550d',\n",
    "    'T': '#de2d26',\n",
    "    'T2A': '#fb6a4a',\n",
    "    'T2C': '#de2d26',\n",
    "    'T2G': '#a50f15',\n",
    "}\n",
    "\n",
    "\n",
    "\n",
    "for errortype in [\"substitutions\", \"deletions\", \"insertions\"]:\n",
    "    fig = px.bar(\n",
    "        idf,\n",
    "        x='exp',\n",
    "        y=errortype,\n",
    "        color='type',\n",
    "        color_discrete_map=color_map,\n",
    "    )\n",
    "    fig.update_yaxes(title_text=f'Ratio of {errortype}', tickformat=\".0%\", range=[0, 1])\n",
    "    fig.update_layout(\n",
    "        width=320,\n",
    "        height=250,\n",
    "        margin=dict(l=0, r=10, t=10, b=0),\n",
    "        showlegend=False,\n",
    "        xaxis_title='',\n",
    "    )\n",
    "\n",
    "    fig = plotting.standardize_plot(fig)\n",
    "    fig.show()"
   ]
  }
 ],
 "metadata": {
  "kernelspec": {
   "display_name": "standard-3.12",
   "language": "python",
   "name": "python3"
  },
  "language_info": {
   "codemirror_mode": {
    "name": "ipython",
    "version": 3
   },
   "file_extension": ".py",
   "mimetype": "text/x-python",
   "name": "python",
   "nbconvert_exporter": "python",
   "pygments_lexer": "ipython3",
   "version": "3.12.3"
  }
 },
 "nbformat": 4,
 "nbformat_minor": 2
}
