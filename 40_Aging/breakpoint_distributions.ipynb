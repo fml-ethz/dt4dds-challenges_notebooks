{
 "cells": [
  {
   "cell_type": "code",
   "execution_count": null,
   "metadata": {},
   "outputs": [],
   "source": [
    "import numpy as np\n",
    "import plotly.express as px\n",
    "import plotly.graph_objects as go\n",
    "\n",
    "import sys\n",
    "sys.path.append('../')\n",
    "import plotting"
   ]
  },
  {
   "cell_type": "markdown",
   "metadata": {},
   "source": [
    "# Functions"
   ]
  },
  {
   "cell_type": "markdown",
   "metadata": {},
   "source": [
    "### Plot"
   ]
  },
  {
   "cell_type": "code",
   "execution_count": null,
   "metadata": {},
   "outputs": [],
   "source": [
    "def plot_breakpoint_distribution(df, length=150, y_limit=0.02):\n",
    "    fig = px.histogram(\n",
    "        df, \n",
    "        x=['break_5_pos', 'break_3_pos'], \n",
    "        histnorm='probability', \n",
    "        facet_row='exp',\n",
    "        facet_row_spacing=0.2,\n",
    "        barmode='overlay',\n",
    "        opacity=0.6,\n",
    "        color_discrete_sequence=['#de2d26', '#3182bd'],\n",
    "    )\n",
    "    fig.add_vline(x=10, line_width=1, line_dash='dash', line_color='black')\n",
    "    fig.add_vline(x=length-10, line_width=1, line_dash='dash', line_color='black')\n",
    "    fig.add_hline(y=1/length, line_width=1, line_color='black')\n",
    "\n",
    "    fig.update_layout(\n",
    "        width=210,\n",
    "        height=140,\n",
    "        margin=dict(l=0,r=10,b=0,t=10),\n",
    "        showlegend=False,\n",
    "    )\n",
    "    fig.update_xaxes(title_text='Position in design sequence', row=1)\n",
    "    fig.update_xaxes(range=[0, length])\n",
    "    fig.update_yaxes(title_text='Probability', range=[0, y_limit], dtick=0.01, minor_dtick=0.005, tickformat=',.0%')\n",
    "    fig.for_each_annotation(lambda a: a.update(text=\"\"))\n",
    "    fig.update_traces(marker=dict(line_width=0), selector=dict(type='histogram'))\n",
    "\n",
    "    fig = plotting.standardize_plot(fig)\n",
    "    return fig"
   ]
  },
  {
   "cell_type": "markdown",
   "metadata": {},
   "source": [
    "# Plot data for Meiser et al."
   ]
  },
  {
   "cell_type": "code",
   "execution_count": null,
   "metadata": {},
   "outputs": [],
   "source": [
    "df = plotting.read_breakage_data({\n",
    "    'aged': '../data_experimental/Aging_Meiser/aged',\n",
    "    'repaired': '../data_experimental/Aging_Meiser/repaired',\n",
    "})\n",
    "df"
   ]
  },
  {
   "cell_type": "code",
   "execution_count": null,
   "metadata": {},
   "outputs": [],
   "source": [
    "fig = plot_breakpoint_distribution(\n",
    "    df,\n",
    "    length=150,\n",
    "    y_limit=0.02,\n",
    ")\n",
    "\n",
    "fig.write_image(\"figures/meiser_breakpoint_distribution.svg\")\n",
    "fig.show()"
   ]
  },
  {
   "cell_type": "markdown",
   "metadata": {},
   "source": [
    "# Plot data for Song et al."
   ]
  },
  {
   "cell_type": "code",
   "execution_count": null,
   "metadata": {},
   "outputs": [],
   "source": [
    "df = plotting.read_breakage_data({\n",
    "    '28d': '../data_experimental/Aging_Song/28d',\n",
    "    '70d': '../data_experimental/Aging_Song/70d',\n",
    "})\n",
    "df"
   ]
  },
  {
   "cell_type": "code",
   "execution_count": null,
   "metadata": {},
   "outputs": [],
   "source": [
    "fig = plot_breakpoint_distribution(\n",
    "    df,\n",
    "    length=200,\n",
    "    y_limit=0.03,\n",
    ")\n",
    "\n",
    "fig.write_image(\"figures/song_breakpoint_distribution.svg\")\n",
    "fig.show()"
   ]
  },
  {
   "cell_type": "markdown",
   "metadata": {},
   "source": [
    "# Plot simulated data"
   ]
  },
  {
   "cell_type": "code",
   "execution_count": null,
   "metadata": {},
   "outputs": [],
   "source": [
    "df = plotting.read_breakage_data({\n",
    "    'simulated': '../data_simulated/test_decay',\n",
    "    'repaired': '../data_experimental/Aging_Meiser/repaired',\n",
    "})\n",
    "df"
   ]
  },
  {
   "cell_type": "code",
   "execution_count": null,
   "metadata": {},
   "outputs": [],
   "source": [
    "fig = plot_breakpoint_distribution(\n",
    "    df,\n",
    "    length=150,\n",
    "    y_limit=0.02,\n",
    ")\n",
    "\n",
    "fig.write_image(\"SI_figures/simulated_breakpoint_distribution.svg\")\n",
    "fig.show()"
   ]
  }
 ],
 "metadata": {
  "kernelspec": {
   "display_name": "standard-3.12",
   "language": "python",
   "name": "python3"
  },
  "language_info": {
   "codemirror_mode": {
    "name": "ipython",
    "version": 3
   },
   "file_extension": ".py",
   "mimetype": "text/x-python",
   "name": "python",
   "nbconvert_exporter": "python",
   "pygments_lexer": "ipython3",
   "version": "3.12.3"
  }
 },
 "nbformat": 4,
 "nbformat_minor": 2
}
