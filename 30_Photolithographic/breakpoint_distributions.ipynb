{
 "cells": [
  {
   "cell_type": "code",
   "execution_count": null,
   "metadata": {},
   "outputs": [],
   "source": [
    "import numpy as np\n",
    "import plotly.express as px\n",
    "import plotly.graph_objects as go\n",
    "\n",
    "import sys\n",
    "sys.path.append('../')\n",
    "import plotting"
   ]
  },
  {
   "cell_type": "markdown",
   "metadata": {},
   "source": [
    "# Functions"
   ]
  },
  {
   "cell_type": "markdown",
   "metadata": {},
   "source": [
    "### Plot"
   ]
  },
  {
   "cell_type": "code",
   "execution_count": null,
   "metadata": {},
   "outputs": [],
   "source": [
    "def plot_breakpoint_distribution(df, length=150, y_limit=0.02):\n",
    "    fig = px.histogram(\n",
    "        df, \n",
    "        x=['break_5_pos', 'break_3_pos'], \n",
    "        histnorm='probability',\n",
    "        barmode='overlay',\n",
    "        color_discrete_sequence=['#de2d26', '#3182bd'],\n",
    "    )\n",
    "    fig.add_vline(x=10, line_width=1, line_dash='dash', line_color='black')\n",
    "    fig.add_vline(x=length-10, line_width=1, line_dash='dash', line_color='black')\n",
    "    fig.add_hline(y=1/length, line_width=1, line_color='black')\n",
    "\n",
    "    fig.update_layout(\n",
    "        width=680/4,\n",
    "        height=150,\n",
    "        margin=dict(l=0,r=10,b=0,t=10),\n",
    "        showlegend=False,\n",
    "    )\n",
    "    fig.update_xaxes(title_text='Position in design sequence', row=1)\n",
    "    fig.update_xaxes(range=[0, length+1])\n",
    "    fig.update_yaxes(title_text='Probability', range=[0, y_limit], dtick=0.1, minor_dtick=0.05, tickformat=',.0%')\n",
    "    fig.for_each_annotation(lambda a: a.update(text=\"\"))\n",
    "    fig.update_traces(marker=dict(line_width=0), selector=dict(type='histogram'))\n",
    "\n",
    "    fig = plotting.standardize_plot(fig)\n",
    "    return fig"
   ]
  },
  {
   "cell_type": "markdown",
   "metadata": {},
   "source": [
    "# Plot data"
   ]
  },
  {
   "cell_type": "code",
   "execution_count": null,
   "metadata": {},
   "outputs": [],
   "source": [
    "df = plotting.read_breakage_data({\n",
    "    'Lietard_Normal': '../data_experimental/Photolithographic_Lietard/Normal',\n",
    "    'Lietard_Spaced': '../data_experimental/Photolithographic_Lietard/Spaced',\n",
    "    'Lietard_Capped': '../data_experimental/Photolithographic_Lietard/Capped',\n",
    "    'Lietard_highdensity': '../data_experimental/Photolithographic_Lietard/high_density',\n",
    "    'Antkowiak_File1': '../data_experimental/Photolithographic_Antkowiak/File1',\n",
    "    'Antkowiak_File2': '../data_experimental/Photolithographic_Antkowiak/File2',\n",
    "    'Antkowiak_File3': '../data_experimental/Photolithographic_Antkowiak/File3',\n",
    "})\n",
    "df"
   ]
  },
  {
   "cell_type": "code",
   "execution_count": null,
   "metadata": {},
   "outputs": [],
   "source": [
    "data = {\n",
    "    'Lietard_Normal': [67, 0.3],\n",
    "    'Lietard_Spaced': [67, 0.3],\n",
    "    'Lietard_Capped': [67, 0.3],\n",
    "    'Lietard_highdensity': [76, 0.3],\n",
    "    'Antkowiak_File1': [60, 0.3],\n",
    "    'Antkowiak_File2': [60, 0.3],\n",
    "    'Antkowiak_File3': [60, 0.3],\n",
    "}\n",
    "\n",
    "for exp, (length, y_limit) in data.items():\n",
    "    fig = plot_breakpoint_distribution(df.loc[df.exp == exp], length=length, y_limit=y_limit)\n",
    "    fig.add_annotation(\n",
    "        x=0.5, y=1.05, xref='paper', yref='paper',\n",
    "        text=f\"{exp.split('_')[0]} et al.<br>{exp.split('_')[1]}\",\n",
    "        showarrow=False,\n",
    "        align='left',\n",
    "        font=dict(size=28/3),\n",
    "    )\n",
    "    fig.show()\n",
    "    fig.write_image(f\"figures/{exp}_breakpoint_distribution.svg\")"
   ]
  },
  {
   "cell_type": "markdown",
   "metadata": {},
   "source": [
    "# Determine average breakage positions"
   ]
  },
  {
   "cell_type": "code",
   "execution_count": null,
   "metadata": {},
   "outputs": [],
   "source": [
    "df = plotting.read_breakage_data({\n",
    "    'Lietard_Normal': '../data_experimental/Photolithographic_Lietard/Normal',\n",
    "    'Lietard_Spaced': '../data_experimental/Photolithographic_Lietard/Spaced',\n",
    "    'Lietard_Capped': '../data_experimental/Photolithographic_Lietard/Capped',\n",
    "})\n",
    "\n",
    "df['break_3_pos'] = 67 - df['break_3_pos'].fillna(67)\n",
    "df['break_5_pos'] = df['break_5_pos'].fillna(0)"
   ]
  },
  {
   "cell_type": "code",
   "execution_count": null,
   "metadata": {},
   "outputs": [],
   "source": [
    "fig = px.histogram(\n",
    "    df,\n",
    "    x=['break_3_pos', 'break_5_pos'],\n",
    "    barmode='overlay',\n",
    "    histnorm='probability',\n",
    ")\n",
    "fig.show()"
   ]
  },
  {
   "cell_type": "code",
   "execution_count": null,
   "metadata": {},
   "outputs": [],
   "source": [
    "density3, _  = np.histogram(df['break_3_pos'], bins=range(0, 68), density=True)\n",
    "density5, _  = np.histogram(df['break_5_pos'], bins=range(0, 68), density=True)\n",
    "density = (density3 + density5)/2\n",
    "\n",
    "px.bar(x=range(0, 67), y=density).show()\n",
    "display(density[:10])"
   ]
  },
  {
   "cell_type": "markdown",
   "metadata": {},
   "source": [
    "# Plot simulated data"
   ]
  },
  {
   "cell_type": "code",
   "execution_count": null,
   "metadata": {},
   "outputs": [],
   "source": [
    "df = plotting.read_breakage_data({\n",
    "    'simulated_simulated': '../data_simulated/test_photolithography',\n",
    "})\n",
    "df"
   ]
  },
  {
   "cell_type": "code",
   "execution_count": null,
   "metadata": {},
   "outputs": [],
   "source": [
    "data = {\n",
    "    'simulated_simulated': [60, 0.3],\n",
    "}\n",
    "\n",
    "for exp, (length, y_limit) in data.items():\n",
    "    fig = plot_breakpoint_distribution(df.loc[df.exp == exp], length=length, y_limit=y_limit)\n",
    "    fig.write_image(f\"SI_figures/{exp}_breakpoint_distribution.svg\")\n",
    "    fig.show()"
   ]
  }
 ],
 "metadata": {
  "kernelspec": {
   "display_name": "standard-3.12",
   "language": "python",
   "name": "python3"
  },
  "language_info": {
   "codemirror_mode": {
    "name": "ipython",
    "version": 3
   },
   "file_extension": ".py",
   "mimetype": "text/x-python",
   "name": "python",
   "nbconvert_exporter": "python",
   "pygments_lexer": "ipython3",
   "version": "3.12.3"
  }
 },
 "nbformat": 4,
 "nbformat_minor": 2
}
