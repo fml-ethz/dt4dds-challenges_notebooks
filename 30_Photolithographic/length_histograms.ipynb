{
 "cells": [
  {
   "cell_type": "code",
   "execution_count": null,
   "metadata": {},
   "outputs": [],
   "source": [
    "import numpy as np\n",
    "import plotly.express as px\n",
    "import plotly.graph_objects as go\n",
    "\n",
    "import sys\n",
    "sys.path.append('../')\n",
    "import plotting"
   ]
  },
  {
   "cell_type": "markdown",
   "metadata": {},
   "source": [
    "# Functions"
   ]
  },
  {
   "cell_type": "markdown",
   "metadata": {},
   "source": [
    "### Plot"
   ]
  },
  {
   "cell_type": "code",
   "execution_count": null,
   "metadata": {},
   "outputs": [],
   "source": [
    "def plot_length_histogram(df, length=150):\n",
    "    fig = px.histogram(\n",
    "        df, \n",
    "        x=\"len_ref_aligned\", \n",
    "        histnorm='probability',\n",
    "    )\n",
    "    fig.data = fig.data[::-1]\n",
    "    \n",
    "    fig.add_vline(x=10, line_width=1, line_dash=\"dash\", line_color=\"black\")\n",
    "    fig.update_yaxes(matches=None)\n",
    "    fig.update_layout(\n",
    "        width=300,\n",
    "        height=150,\n",
    "        margin=dict(l=0,r=10,b=0,t=10),\n",
    "        showlegend=False,\n",
    "    )\n",
    "\n",
    "    fig.update_xaxes(title_text='Length of read', row=1)\n",
    "    fig.update_xaxes(range=[0, length+1])\n",
    "    fig.update_yaxes(title_text='Probability', rangemode='tozero', tickformat=',.0%')\n",
    "\n",
    "    fig.update_traces(marker=dict(line_width=0), selector=dict(type='histogram')) \n",
    "\n",
    "    fig = plotting.standardize_plot(fig)\n",
    "    return fig"
   ]
  },
  {
   "cell_type": "markdown",
   "metadata": {},
   "source": [
    "# Plot data"
   ]
  },
  {
   "cell_type": "code",
   "execution_count": null,
   "metadata": {},
   "outputs": [],
   "source": [
    "df = plotting.read_breakage_data({\n",
    "    'Lietard_Normal': '../data_experimental/Photolithographic_Lietard/Normal',\n",
    "    'Lietard_Spaced': '../data_experimental/Photolithographic_Lietard/Spaced',\n",
    "    'Lietard_Capped': '../data_experimental/Photolithographic_Lietard/Capped',\n",
    "    'Lietard_highdensity': '../data_experimental/Photolithographic_Lietard/high_density',\n",
    "    'Antkowiak_File1': '../data_experimental/Photolithographic_Antkowiak/File1',\n",
    "    'Antkowiak_File2': '../data_experimental/Photolithographic_Antkowiak/File2',\n",
    "    'Antkowiak_File3': '../data_experimental/Photolithographic_Antkowiak/File3',\n",
    "    'simulated_simulated': '../data_simulated/test_photolithography',\n",
    "})\n",
    "df"
   ]
  },
  {
   "cell_type": "code",
   "execution_count": null,
   "metadata": {},
   "outputs": [],
   "source": [
    "data = {\n",
    "    'Lietard_Normal': 67,\n",
    "    'Lietard_Spaced': 67,\n",
    "    'Lietard_Capped': 67,\n",
    "    'Lietard_highdensity': 76,\n",
    "    'Antkowiak_File1': 60,\n",
    "    'Antkowiak_File2': 60,\n",
    "    'Antkowiak_File3': 60,\n",
    "    'simulated_simulated': 60,\n",
    "}\n",
    "\n",
    "for exp, length in data.items():\n",
    "    fig = plot_length_histogram(df.loc[df.exp == exp], length=length)\n",
    "    # fig.write_image(f\"figures/{exp}_length_histogram.svg\")\n",
    "    fig.show()"
   ]
  },
  {
   "cell_type": "markdown",
   "metadata": {},
   "source": [
    "# Show only one histogram"
   ]
  },
  {
   "cell_type": "code",
   "execution_count": null,
   "metadata": {},
   "outputs": [],
   "source": [
    "df = plotting.read_breakage_data({\n",
    "    'Antkowiak_File1': '../data_experimental/Photolithographic_Antkowiak/File1',\n",
    "})\n",
    "df"
   ]
  },
  {
   "cell_type": "code",
   "execution_count": null,
   "metadata": {},
   "outputs": [],
   "source": [
    "fig = px.histogram(\n",
    "    df, \n",
    "    x=\"len_read_aligned\", \n",
    "    histnorm='probability',\n",
    "    color_discrete_sequence=['#999999'],\n",
    ")\n",
    "fig.data = fig.data[::-1]\n",
    "\n",
    "fig.add_vline(x=10, line_width=1, line_dash=\"dash\", line_color=\"black\")\n",
    "fig.add_vline(x=60, line_width=1, opacity=1, line_color=\"black\")\n",
    "fig.update_yaxes(matches=None)\n",
    "fig.update_layout(\n",
    "    height=175, \n",
    "    width=200, \n",
    "    margin=dict(l=0,r=10,b=0,t=10),\n",
    "    showlegend=False,\n",
    ")\n",
    "\n",
    "fig.update_xaxes(title_text='Length of read', range=[0, 65+1])\n",
    "fig.update_yaxes(title_text='Fraction of reads', range=[0, 0.08], tickformat=',.0%', dtick=0.02, minor_dtick=0.01)\n",
    "\n",
    "fig.update_traces(marker=dict(line_width=0), selector=dict(type='histogram')) \n",
    "\n",
    "fig = plotting.standardize_plot(fig)\n",
    "fig.show()\n",
    "fig.write_image(\"./figures/length_histogram.svg\")"
   ]
  },
  {
   "cell_type": "markdown",
   "metadata": {},
   "source": [
    "# Show only simulated data"
   ]
  },
  {
   "cell_type": "code",
   "execution_count": null,
   "metadata": {},
   "outputs": [],
   "source": [
    "df = plotting.read_breakage_data({\n",
    "    'simulated_simulated': '../data_simulated/test_photolithography',\n",
    "})\n",
    "df"
   ]
  },
  {
   "cell_type": "code",
   "execution_count": null,
   "metadata": {},
   "outputs": [],
   "source": [
    "fig = px.histogram(\n",
    "    df, \n",
    "    x=\"len_read_aligned\", \n",
    "    histnorm='probability',\n",
    "    color_discrete_sequence=['#999999'],\n",
    ")\n",
    "fig.data = fig.data[::-1]\n",
    "\n",
    "fig.add_vline(x=10, line_width=1, line_dash=\"dash\", line_color=\"black\")\n",
    "fig.add_vline(x=60, line_width=1, opacity=1, line_color=\"black\")\n",
    "fig.update_yaxes(matches=None)\n",
    "fig.update_layout(\n",
    "    height=175, \n",
    "    width=200, \n",
    "    margin=dict(l=0,r=10,b=0,t=10),\n",
    "    showlegend=False,\n",
    ")\n",
    "\n",
    "fig.update_xaxes(title_text='Length of read', range=[0, 65+1])\n",
    "fig.update_yaxes(title_text='Fraction of reads', range=[0, 0.12], tickformat=',.0%', dtick=0.02, minor_dtick=0.01)\n",
    "\n",
    "fig.update_traces(marker=dict(line_width=0), selector=dict(type='histogram')) \n",
    "\n",
    "fig = plotting.standardize_plot(fig)\n",
    "fig.show()\n",
    "fig.write_image(\"./SI_figures/length_histogram.svg\")"
   ]
  }
 ],
 "metadata": {
  "kernelspec": {
   "display_name": "standard-3.12",
   "language": "python",
   "name": "python3"
  },
  "language_info": {
   "codemirror_mode": {
    "name": "ipython",
    "version": 3
   },
   "file_extension": ".py",
   "mimetype": "text/x-python",
   "name": "python",
   "nbconvert_exporter": "python",
   "pygments_lexer": "ipython3",
   "version": "3.12.3"
  }
 },
 "nbformat": 4,
 "nbformat_minor": 2
}
