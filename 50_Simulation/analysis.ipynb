{
 "cells": [
  {
   "cell_type": "code",
   "execution_count": null,
   "metadata": {},
   "outputs": [],
   "source": [
    "import pandas as pd\n",
    "import pathlib"
   ]
  },
  {
   "cell_type": "code",
   "execution_count": null,
   "metadata": {},
   "outputs": [],
   "source": [
    "def read_all(folder):\n",
    "    all_dfs = []\n",
    "\n",
    "    # go through all main scenarios\n",
    "    for scenario in ['test', 'decay', 'photolithography']:\n",
    "        path = pathlib.Path(folder) / scenario\n",
    "        if not path.exists():\n",
    "            print(f'Path {path} does not exist, skipping ...')\n",
    "            continue\n",
    "        \n",
    "        # go through all subfolders in the folder\n",
    "        for subfolder in path.iterdir():\n",
    "            if not subfolder.is_dir():\n",
    "                continue\n",
    "            coderate = subfolder.name\n",
    "            df = pd.read_csv(subfolder / 'pipeline_results.csv')\n",
    "            df['coderate'] = coderate\n",
    "            df['scenario'] = scenario\n",
    "            all_dfs.append(df)\n",
    "\n",
    "    return pd.concat(all_dfs)\n",
    "\n",
    "\n",
    "def assess_performance(df):\n",
    "    to_exclude = ['success', 'failed_at', 'iteration']\n",
    "    all_columns = df.columns\n",
    "    feature_columns = [col for col in all_columns if col not in to_exclude]\n",
    "\n",
    "    return df.groupby(feature_columns).agg({'success': 'mean', 'iteration': 'count'}).reset_index()"
   ]
  },
  {
   "cell_type": "markdown",
   "metadata": {},
   "source": [
    "# DNAFOUNTAIN"
   ]
  },
  {
   "cell_type": "code",
   "execution_count": null,
   "metadata": {},
   "outputs": [],
   "source": [
    "df = read_all(\"../data_simulated/DNAFOUNTAIN\")\n",
    "assess_performance(df)"
   ]
  },
  {
   "cell_type": "markdown",
   "metadata": {},
   "source": [
    "# DBGPS"
   ]
  },
  {
   "cell_type": "code",
   "execution_count": null,
   "metadata": {},
   "outputs": [],
   "source": [
    "df = read_all(\"../data_simulated/DBGPS\")\n",
    "assess_performance(df)"
   ]
  },
  {
   "cell_type": "markdown",
   "metadata": {},
   "source": [
    "# DNARS"
   ]
  },
  {
   "cell_type": "code",
   "execution_count": null,
   "metadata": {},
   "outputs": [],
   "source": [
    "df = read_all(\"../data_simulated/DNARS\")\n",
    "assess_performance(df)"
   ]
  },
  {
   "cell_type": "markdown",
   "metadata": {},
   "source": [
    "# Plotting"
   ]
  },
  {
   "cell_type": "code",
   "execution_count": null,
   "metadata": {},
   "outputs": [],
   "source": [
    "import plotly.express as px\n",
    "import pandas as pd\n",
    "\n",
    "import sys\n",
    "sys.path.append('..')\n",
    "import plotting"
   ]
  },
  {
   "cell_type": "code",
   "execution_count": null,
   "metadata": {},
   "outputs": [],
   "source": [
    "df = pd.DataFrame.from_dict({\n",
    "    'codec': ['DBGPS', 'DNA-RS', 'DNA-Fountain', 'DBGPS', 'DNA-RS', 'DNA-Fountain'],\n",
    "    'challenge': ['photolithography', 'photolithography', 'photolithography', 'decay', 'decay', 'decay'],\n",
    "    'code_rate': [0.0, 0.6, 0.0, 1.1, 0.0, 0.0],\n",
    "})\n",
    "\n",
    "fig = px.bar(\n",
    "    df, \n",
    "    x='code_rate', \n",
    "    y='codec', \n",
    "    color='challenge', \n",
    "    barmode='group',\n",
    "    color_discrete_map={\n",
    "        'photolithography': \"#3182bd\",\n",
    "        'decay': \"#de2d26\",\n",
    "    },\n",
    "    category_orders={\n",
    "        'codec': ['DNA-RS', 'DNA-Fountain', 'DBGPS'],\n",
    "        'challenge': ['photolithography', 'decay'],\n",
    "    },\n",
    "    text_auto=True,\n",
    ")\n",
    "fig.update_traces(textfont_size=28/3, textangle=0, textposition=\"outside\", cliponaxis=False)\n",
    "\n",
    "fig.update_layout(\n",
    "    width=350,\n",
    "    height=150,\n",
    "    margin=dict(l=0, r=10, t=10, b=0),\n",
    "    showlegend=False,\n",
    ")\n",
    "fig.update_yaxes(title_text='')\n",
    "fig.update_xaxes(title_text='Highest feasible code rate / bit nt<sup>-1</sup>', range=[0, 2.0], minor_dtick=0.25)\n",
    "\n",
    "fig = plotting.standardize_plot(fig)\n",
    "fig.show()\n",
    "\n",
    "fig.write_image('./figures/codec_code_rate.svg')"
   ]
  }
 ],
 "metadata": {
  "kernelspec": {
   "display_name": "standard-3.12",
   "language": "python",
   "name": "python3"
  },
  "language_info": {
   "codemirror_mode": {
    "name": "ipython",
    "version": 3
   },
   "file_extension": ".py",
   "mimetype": "text/x-python",
   "name": "python",
   "nbconvert_exporter": "python",
   "pygments_lexer": "ipython3",
   "version": "3.12.4"
  }
 },
 "nbformat": 4,
 "nbformat_minor": 2
}
